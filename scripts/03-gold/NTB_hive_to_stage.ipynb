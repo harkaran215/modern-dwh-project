{
 "cells": [
  {
   "cell_type": "code",
   "execution_count": 1,
   "metadata": {},
   "outputs": [
    {
     "data": {
      "text/plain": [
       "'c:\\\\Users\\\\user\\\\miniconda3\\\\lib\\\\site-packages\\\\pyspark'"
      ]
     },
     "execution_count": 1,
     "metadata": {},
     "output_type": "execute_result"
    }
   ],
   "source": [
    "import findspark\n",
    "findspark.init()\n",
    "findspark.find()"
   ]
  },
  {
   "cell_type": "code",
   "execution_count": 2,
   "metadata": {},
   "outputs": [],
   "source": [
    "from pyspark.sql import SparkSession\n",
    "from pyspark.sql.functions import year, col, lit\n",
    "from datetime import datetime\n",
    "import logging"
   ]
  },
  {
   "cell_type": "code",
   "execution_count": 3,
   "metadata": {},
   "outputs": [],
   "source": [
    "spark = SparkSession.builder\\\n",
    "        .appName(\"Silver_Layer_Ingesion\")\\\n",
    "        .enableHiveSupport()\\\n",
    "        .getOrCreate()"
   ]
  },
  {
   "cell_type": "code",
   "execution_count": 9,
   "metadata": {},
   "outputs": [],
   "source": [
    "df = spark.sql(\"SELECT * FROM gfs_customers\")"
   ]
  },
  {
   "cell_type": "code",
   "execution_count": 10,
   "metadata": {},
   "outputs": [
    {
     "name": "stdout",
     "output_type": "stream",
     "text": [
      "+-----------+--------------------+--------------------+--------------------+---------------+-------------+------+-------------+---------+----+\n",
      "|Customer_ID|                Name|               Email|           Telephone|           City|      Country|Gender|Date_Of_Birth|Job_Title|year|\n",
      "+-----------+--------------------+--------------------+--------------------+---------------+-------------+------+-------------+---------+----+\n",
      "|    1571768|     António Andrade|antónio.andrade@f...|   (351) 921 848 592|          Porto|     Portugal|     M|   2006-12-09|     NULL|2006|\n",
      "|       2676|       Natalie Adams|natalie.adams@fak...|001-711-886-2633x...|       New York|United States|     F|   2006-05-17|     NULL|2006|\n",
      "|    1573609|Andreia de Rodrigues|andreia.de.rodrig...|     (351) 931511410|          Porto|     Portugal|     F|   2006-12-02|     NULL|2006|\n",
      "|       6167| Jonathon Becker DDS|jonathon.becker.d...|        900-645-2514|       New York|United States|     M|   2006-08-04|     NULL|2006|\n",
      "|    1580996|Yara-Valentina Sa...|yara-valentina.sa...|         935 285 327|          Porto|     Portugal|     F|   2006-09-17|     NULL|2006|\n",
      "|       6467|      Darren Mcguire|darren.mcguire@fa...|        788.474.9497|       New York|United States|     M|   2006-06-20|     NULL|2006|\n",
      "|    1621487|      Márcio Pacheco|márcio.pacheco@fa...|     (351) 919877138|      Guimarães|     Portugal|     M|   2006-06-14|     NULL|2006|\n",
      "|       8335|         Todd Chavez|todd.chavez@fake_...|+1-762-571-7373x0...|       New York|United States|     M|   2006-03-27|     NULL|2006|\n",
      "|    1635131|   Cristiano Almeida|cristiano.almeida...|           913441982|        Coimbra|     Portugal|     M|   2006-09-15|     NULL|2006|\n",
      "|       9092|       Bryce Griffin|bryce.griffin@fak...|  432-622-7143x52880|       New York|United States|     M|   2006-03-27|     NULL|2006|\n",
      "|    1636523|        Teresa Nunes|teresa.nunes@fake...|   (351) 253 044 455|        Coimbra|     Portugal|     F|   2006-07-12|     NULL|2006|\n",
      "|      10995|     Jennifer Austin|jennifer.austin@f...|   646-222-2288x0543|       New York|United States|     F|   2006-02-26|     NULL|2006|\n",
      "|    1640287|         Enzo Campos|enzo.campos@fake_...|           960234910|        Coimbra|     Portugal|     M|   2006-09-29|     NULL|2006|\n",
      "|      12435|     Michelle Harris|michelle.harris@f...|  (763)543-1659x0070|       New York|United States|     F|   2006-11-02|     NULL|2006|\n",
      "|    1641036|        Érica Coelho|érica.coelho@fake...|   (351) 286 387 541|Condeixa-a-Nova|     Portugal|     F|   2006-02-11|     NULL|2006|\n",
      "|      13342|        Brian Dodson|brian.dodson@fake...|+1-922-576-4937x8137|       New York|United States|     M|   2006-02-03|     NULL|2006|\n",
      "|      13880|         Wendy Silva|wendy.silva@fake_...| +1-268-248-1757x872|       New York|United States|     F|   2006-06-23|     NULL|2006|\n",
      "|      16762|         Hannah Wolf|hannah.wolf@fake_...|   (497)302-4969x003|       New York|United States|     F|   2006-12-13|     NULL|2006|\n",
      "|      18035|      Erika Hamilton|erika.hamilton@fa...|          6845389813|       New York|United States|     F|   2006-07-31|     NULL|2006|\n",
      "|      18323|      Kevin Richards|kevin.richards@fa...| +1-645-459-9416x668|       New York|United States|     M|   2006-12-09|     NULL|2006|\n",
      "+-----------+--------------------+--------------------+--------------------+---------------+-------------+------+-------------+---------+----+\n",
      "only showing top 20 rows\n",
      "\n"
     ]
    }
   ],
   "source": [
    "df.show()"
   ]
  },
  {
   "cell_type": "code",
   "execution_count": null,
   "metadata": {},
   "outputs": [],
   "source": [
    "df.write \\\n",
    "  .format(\"jdbc\") \\\n",
    "  .option(\"url\", \"jdbc:sqlserver://<sql-server>:1433;database=datawarehouse\") \\\n",
    "  .option(\"dbtable\", \"LocalSQLServerTable\") \\\n",
    "  .option(\"user\", \"<username>\") \\\n",
    "  .option(\"password\", \"<password>\") \\\n",
    "  .save()"
   ]
  },
  {
   "cell_type": "code",
   "execution_count": 16,
   "metadata": {},
   "outputs": [
    {
     "data": {
      "text/plain": [
       "DataFrame[]"
      ]
     },
     "execution_count": 16,
     "metadata": {},
     "output_type": "execute_result"
    }
   ],
   "source": [
    "spark.sql(\"CREATE DATABASE datawarehouse\")"
   ]
  },
  {
   "cell_type": "code",
   "execution_count": 4,
   "metadata": {},
   "outputs": [
    {
     "data": {
      "text/plain": [
       "DataFrame[]"
      ]
     },
     "execution_count": 4,
     "metadata": {},
     "output_type": "execute_result"
    }
   ],
   "source": [
    "spark.sql(\"use datawarehouse\")"
   ]
  },
  {
   "cell_type": "code",
   "execution_count": 5,
   "metadata": {},
   "outputs": [
    {
     "ename": "AnalysisException",
     "evalue": "[SCHEMA_ALREADY_EXISTS] Cannot create schema `stage` because it already exists.\nChoose a different name, drop the existing schema, or add the IF NOT EXISTS clause to tolerate pre-existing schema.",
     "output_type": "error",
     "traceback": [
      "\u001b[1;31m---------------------------------------------------------------------------\u001b[0m",
      "\u001b[1;31mAnalysisException\u001b[0m                         Traceback (most recent call last)",
      "Cell \u001b[1;32mIn[5], line 1\u001b[0m\n\u001b[1;32m----> 1\u001b[0m \u001b[43mspark\u001b[49m\u001b[38;5;241;43m.\u001b[39;49m\u001b[43msql\u001b[49m\u001b[43m(\u001b[49m\u001b[38;5;124;43m\"\u001b[39;49m\u001b[38;5;124;43mcreate schema stage\u001b[39;49m\u001b[38;5;124;43m\"\u001b[39;49m\u001b[43m)\u001b[49m\n\u001b[0;32m      2\u001b[0m spark\u001b[38;5;241m.\u001b[39msql(\u001b[38;5;124m\"\u001b[39m\u001b[38;5;124mcreate schema gold\u001b[39m\u001b[38;5;124m\"\u001b[39m)\n",
      "File \u001b[1;32mc:\\Users\\user\\miniconda3\\lib\\site-packages\\pyspark\\sql\\session.py:1631\u001b[0m, in \u001b[0;36mSparkSession.sql\u001b[1;34m(self, sqlQuery, args, **kwargs)\u001b[0m\n\u001b[0;32m   1627\u001b[0m         \u001b[38;5;28;01massert\u001b[39;00m \u001b[38;5;28mself\u001b[39m\u001b[38;5;241m.\u001b[39m_jvm \u001b[38;5;129;01mis\u001b[39;00m \u001b[38;5;129;01mnot\u001b[39;00m \u001b[38;5;28;01mNone\u001b[39;00m\n\u001b[0;32m   1628\u001b[0m         litArgs \u001b[38;5;241m=\u001b[39m \u001b[38;5;28mself\u001b[39m\u001b[38;5;241m.\u001b[39m_jvm\u001b[38;5;241m.\u001b[39mPythonUtils\u001b[38;5;241m.\u001b[39mtoArray(\n\u001b[0;32m   1629\u001b[0m             [_to_java_column(lit(v)) \u001b[38;5;28;01mfor\u001b[39;00m v \u001b[38;5;129;01min\u001b[39;00m (args \u001b[38;5;129;01mor\u001b[39;00m [])]\n\u001b[0;32m   1630\u001b[0m         )\n\u001b[1;32m-> 1631\u001b[0m     \u001b[38;5;28;01mreturn\u001b[39;00m DataFrame(\u001b[38;5;28;43mself\u001b[39;49m\u001b[38;5;241;43m.\u001b[39;49m\u001b[43m_jsparkSession\u001b[49m\u001b[38;5;241;43m.\u001b[39;49m\u001b[43msql\u001b[49m\u001b[43m(\u001b[49m\u001b[43msqlQuery\u001b[49m\u001b[43m,\u001b[49m\u001b[43m \u001b[49m\u001b[43mlitArgs\u001b[49m\u001b[43m)\u001b[49m, \u001b[38;5;28mself\u001b[39m)\n\u001b[0;32m   1632\u001b[0m \u001b[38;5;28;01mfinally\u001b[39;00m:\n\u001b[0;32m   1633\u001b[0m     \u001b[38;5;28;01mif\u001b[39;00m \u001b[38;5;28mlen\u001b[39m(kwargs) \u001b[38;5;241m>\u001b[39m \u001b[38;5;241m0\u001b[39m:\n",
      "File \u001b[1;32mc:\\Users\\user\\miniconda3\\lib\\site-packages\\py4j\\java_gateway.py:1322\u001b[0m, in \u001b[0;36mJavaMember.__call__\u001b[1;34m(self, *args)\u001b[0m\n\u001b[0;32m   1316\u001b[0m command \u001b[38;5;241m=\u001b[39m proto\u001b[38;5;241m.\u001b[39mCALL_COMMAND_NAME \u001b[38;5;241m+\u001b[39m\\\n\u001b[0;32m   1317\u001b[0m     \u001b[38;5;28mself\u001b[39m\u001b[38;5;241m.\u001b[39mcommand_header \u001b[38;5;241m+\u001b[39m\\\n\u001b[0;32m   1318\u001b[0m     args_command \u001b[38;5;241m+\u001b[39m\\\n\u001b[0;32m   1319\u001b[0m     proto\u001b[38;5;241m.\u001b[39mEND_COMMAND_PART\n\u001b[0;32m   1321\u001b[0m answer \u001b[38;5;241m=\u001b[39m \u001b[38;5;28mself\u001b[39m\u001b[38;5;241m.\u001b[39mgateway_client\u001b[38;5;241m.\u001b[39msend_command(command)\n\u001b[1;32m-> 1322\u001b[0m return_value \u001b[38;5;241m=\u001b[39m \u001b[43mget_return_value\u001b[49m\u001b[43m(\u001b[49m\n\u001b[0;32m   1323\u001b[0m \u001b[43m    \u001b[49m\u001b[43manswer\u001b[49m\u001b[43m,\u001b[49m\u001b[43m \u001b[49m\u001b[38;5;28;43mself\u001b[39;49m\u001b[38;5;241;43m.\u001b[39;49m\u001b[43mgateway_client\u001b[49m\u001b[43m,\u001b[49m\u001b[43m \u001b[49m\u001b[38;5;28;43mself\u001b[39;49m\u001b[38;5;241;43m.\u001b[39;49m\u001b[43mtarget_id\u001b[49m\u001b[43m,\u001b[49m\u001b[43m \u001b[49m\u001b[38;5;28;43mself\u001b[39;49m\u001b[38;5;241;43m.\u001b[39;49m\u001b[43mname\u001b[49m\u001b[43m)\u001b[49m\n\u001b[0;32m   1325\u001b[0m \u001b[38;5;28;01mfor\u001b[39;00m temp_arg \u001b[38;5;129;01min\u001b[39;00m temp_args:\n\u001b[0;32m   1326\u001b[0m     \u001b[38;5;28;01mif\u001b[39;00m \u001b[38;5;28mhasattr\u001b[39m(temp_arg, \u001b[38;5;124m\"\u001b[39m\u001b[38;5;124m_detach\u001b[39m\u001b[38;5;124m\"\u001b[39m):\n",
      "File \u001b[1;32mc:\\Users\\user\\miniconda3\\lib\\site-packages\\pyspark\\errors\\exceptions\\captured.py:185\u001b[0m, in \u001b[0;36mcapture_sql_exception.<locals>.deco\u001b[1;34m(*a, **kw)\u001b[0m\n\u001b[0;32m    181\u001b[0m converted \u001b[38;5;241m=\u001b[39m convert_exception(e\u001b[38;5;241m.\u001b[39mjava_exception)\n\u001b[0;32m    182\u001b[0m \u001b[38;5;28;01mif\u001b[39;00m \u001b[38;5;129;01mnot\u001b[39;00m \u001b[38;5;28misinstance\u001b[39m(converted, UnknownException):\n\u001b[0;32m    183\u001b[0m     \u001b[38;5;66;03m# Hide where the exception came from that shows a non-Pythonic\u001b[39;00m\n\u001b[0;32m    184\u001b[0m     \u001b[38;5;66;03m# JVM exception message.\u001b[39;00m\n\u001b[1;32m--> 185\u001b[0m     \u001b[38;5;28;01mraise\u001b[39;00m converted \u001b[38;5;28;01mfrom\u001b[39;00m\u001b[38;5;250m \u001b[39m\u001b[38;5;28;01mNone\u001b[39;00m\n\u001b[0;32m    186\u001b[0m \u001b[38;5;28;01melse\u001b[39;00m:\n\u001b[0;32m    187\u001b[0m     \u001b[38;5;28;01mraise\u001b[39;00m\n",
      "\u001b[1;31mAnalysisException\u001b[0m: [SCHEMA_ALREADY_EXISTS] Cannot create schema `stage` because it already exists.\nChoose a different name, drop the existing schema, or add the IF NOT EXISTS clause to tolerate pre-existing schema."
     ]
    }
   ],
   "source": [
    "spark.sql(\"create schema stage\")\n",
    "spark.sql(\"create schema gold\")"
   ]
  },
  {
   "cell_type": "code",
   "execution_count": 13,
   "metadata": {},
   "outputs": [
    {
     "name": "stdout",
     "output_type": "stream",
     "text": [
      "++\n",
      "||\n",
      "++\n",
      "++\n",
      "\n"
     ]
    }
   ],
   "source": [
    "spark.sql(\"use stage\").show()"
   ]
  },
  {
   "cell_type": "code",
   "execution_count": 15,
   "metadata": {},
   "outputs": [
    {
     "data": {
      "text/plain": [
       "DataFrame[]"
      ]
     },
     "execution_count": 15,
     "metadata": {},
     "output_type": "execute_result"
    }
   ],
   "source": [
    "spark.sql(\"CREATE TABLE IF NOT EXISTS stage.t_gfs_customers AS SELECT * FROM default.gfs_customers WHERE 1=0;\")"
   ]
  },
  {
   "cell_type": "code",
   "execution_count": 16,
   "metadata": {},
   "outputs": [
    {
     "data": {
      "text/plain": [
       "DataFrame[]"
      ]
     },
     "execution_count": 16,
     "metadata": {},
     "output_type": "execute_result"
    }
   ],
   "source": [
    "spark.sql(\"INSERT INTO stage.t_gfs_customers SELECT * FROM default.gfs_customers;\")"
   ]
  },
  {
   "cell_type": "code",
   "execution_count": 19,
   "metadata": {},
   "outputs": [
    {
     "name": "stdout",
     "output_type": "stream",
     "text": [
      "+-----------+--------------------+--------------------+--------------------+---------------+-------------+------+-------------+---------+----+\n",
      "|Customer_ID|                Name|               Email|           Telephone|           City|      Country|Gender|Date_Of_Birth|Job_Title|year|\n",
      "+-----------+--------------------+--------------------+--------------------+---------------+-------------+------+-------------+---------+----+\n",
      "|    1571768|     António Andrade|antónio.andrade@f...|   (351) 921 848 592|          Porto|     Portugal|     M|   2006-12-09|     NULL|2006|\n",
      "|       2676|       Natalie Adams|natalie.adams@fak...|001-711-886-2633x...|       New York|United States|     F|   2006-05-17|     NULL|2006|\n",
      "|    1573609|Andreia de Rodrigues|andreia.de.rodrig...|     (351) 931511410|          Porto|     Portugal|     F|   2006-12-02|     NULL|2006|\n",
      "|       6167| Jonathon Becker DDS|jonathon.becker.d...|        900-645-2514|       New York|United States|     M|   2006-08-04|     NULL|2006|\n",
      "|    1580996|Yara-Valentina Sa...|yara-valentina.sa...|         935 285 327|          Porto|     Portugal|     F|   2006-09-17|     NULL|2006|\n",
      "|       6467|      Darren Mcguire|darren.mcguire@fa...|        788.474.9497|       New York|United States|     M|   2006-06-20|     NULL|2006|\n",
      "|    1621487|      Márcio Pacheco|márcio.pacheco@fa...|     (351) 919877138|      Guimarães|     Portugal|     M|   2006-06-14|     NULL|2006|\n",
      "|       8335|         Todd Chavez|todd.chavez@fake_...|+1-762-571-7373x0...|       New York|United States|     M|   2006-03-27|     NULL|2006|\n",
      "|    1635131|   Cristiano Almeida|cristiano.almeida...|           913441982|        Coimbra|     Portugal|     M|   2006-09-15|     NULL|2006|\n",
      "|       9092|       Bryce Griffin|bryce.griffin@fak...|  432-622-7143x52880|       New York|United States|     M|   2006-03-27|     NULL|2006|\n",
      "|    1636523|        Teresa Nunes|teresa.nunes@fake...|   (351) 253 044 455|        Coimbra|     Portugal|     F|   2006-07-12|     NULL|2006|\n",
      "|      10995|     Jennifer Austin|jennifer.austin@f...|   646-222-2288x0543|       New York|United States|     F|   2006-02-26|     NULL|2006|\n",
      "|    1640287|         Enzo Campos|enzo.campos@fake_...|           960234910|        Coimbra|     Portugal|     M|   2006-09-29|     NULL|2006|\n",
      "|      12435|     Michelle Harris|michelle.harris@f...|  (763)543-1659x0070|       New York|United States|     F|   2006-11-02|     NULL|2006|\n",
      "|    1641036|        Érica Coelho|érica.coelho@fake...|   (351) 286 387 541|Condeixa-a-Nova|     Portugal|     F|   2006-02-11|     NULL|2006|\n",
      "|      13342|        Brian Dodson|brian.dodson@fake...|+1-922-576-4937x8137|       New York|United States|     M|   2006-02-03|     NULL|2006|\n",
      "|      13880|         Wendy Silva|wendy.silva@fake_...| +1-268-248-1757x872|       New York|United States|     F|   2006-06-23|     NULL|2006|\n",
      "|      16762|         Hannah Wolf|hannah.wolf@fake_...|   (497)302-4969x003|       New York|United States|     F|   2006-12-13|     NULL|2006|\n",
      "|      18035|      Erika Hamilton|erika.hamilton@fa...|          6845389813|       New York|United States|     F|   2006-07-31|     NULL|2006|\n",
      "|      18323|      Kevin Richards|kevin.richards@fa...| +1-645-459-9416x668|       New York|United States|     M|   2006-12-09|     NULL|2006|\n",
      "+-----------+--------------------+--------------------+--------------------+---------------+-------------+------+-------------+---------+----+\n",
      "only showing top 20 rows\n",
      "\n"
     ]
    }
   ],
   "source": [
    "spark.sql(\"\"\"\n",
    "          select * from stage.t_gfs_customers\n",
    "\"\"\").show()"
   ]
  },
  {
   "cell_type": "code",
   "execution_count": 20,
   "metadata": {},
   "outputs": [],
   "source": [
    "spark.stop()"
   ]
  }
 ],
 "metadata": {
  "kernelspec": {
   "display_name": "base",
   "language": "python",
   "name": "python3"
  },
  "language_info": {
   "codemirror_mode": {
    "name": "ipython",
    "version": 3
   },
   "file_extension": ".py",
   "mimetype": "text/x-python",
   "name": "python",
   "nbconvert_exporter": "python",
   "pygments_lexer": "ipython3",
   "version": "3.10.16"
  }
 },
 "nbformat": 4,
 "nbformat_minor": 2
}
